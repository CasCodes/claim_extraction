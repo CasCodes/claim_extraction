{
 "cells": [
  {
   "cell_type": "code",
   "execution_count": 2,
   "metadata": {},
   "outputs": [
    {
     "name": "stderr",
     "output_type": "stream",
     "text": [
      "/home/cas/.local/lib/python3.10/site-packages/tqdm/auto.py:22: TqdmWarning: IProgress not found. Please update jupyter and ipywidgets. See https://ipywidgets.readthedocs.io/en/stable/user_install.html\n",
      "  from .autonotebook import tqdm as notebook_tqdm\n"
     ]
    }
   ],
   "source": [
    "from transformers import pipeline"
   ]
  },
  {
   "cell_type": "code",
   "execution_count": 3,
   "metadata": {},
   "outputs": [],
   "source": [
    "pipe = pipeline(\"text-classification\", model=\"Nithiwat/mdeberta-v3-base_claim-detection\")"
   ]
  },
  {
   "cell_type": "code",
   "execution_count": 7,
   "metadata": {},
   "outputs": [
    {
     "data": {
      "text/plain": [
       "[{'label': 'LABEL_1', 'score': 0.9961165189743042}]"
      ]
     },
     "execution_count": 7,
     "metadata": {},
     "output_type": "execute_result"
    }
   ],
   "source": [
    "pipe(\"Liz Trust has resigned\")"
   ]
  },
  {
   "cell_type": "code",
   "execution_count": 34,
   "metadata": {},
   "outputs": [],
   "source": [
    "import nltk.data\n",
    "# read & tokenize example article into sentences\n",
    "tokenizer = nltk.data.load('tokenizers/punkt/english.pickle')\n",
    "fp = open(\"data/china_us.txt\")\n",
    "text = fp.read()\n",
    "sentences = tokenizer.tokenize(text)"
   ]
  },
  {
   "cell_type": "code",
   "execution_count": 35,
   "metadata": {},
   "outputs": [
    {
     "name": "stdout",
     "output_type": "stream",
     "text": [
      "{'label': 'LABEL_1', 'score': 0.994126558303833}\n",
      "{'label': 'LABEL_1', 'score': 0.7435857653617859}\n",
      "{'label': 'LABEL_0', 'score': 0.9991084933280945}\n",
      "{'label': 'LABEL_1', 'score': 0.9998723268508911}\n",
      "{'label': 'LABEL_1', 'score': 0.9998863935470581}\n",
      "{'label': 'LABEL_1', 'score': 0.9993199110031128}\n",
      "{'label': 'LABEL_1', 'score': 0.718158483505249}\n",
      "{'label': 'LABEL_0', 'score': 0.9941697120666504}\n",
      "{'label': 'LABEL_1', 'score': 0.9999350309371948}\n",
      "{'label': 'LABEL_1', 'score': 0.847951352596283}\n"
     ]
    }
   ],
   "source": [
    "claims = []\n",
    "non = []\n",
    "\n",
    "for i in range(10):\n",
    "    pred = pipe(sentences[i])[0]\n",
    "    print(pred)\n",
    "    \n",
    "    if pred[\"label\"] == \"LABEL_1\":\n",
    "        claims.append(sentences[i])\n",
    "    elif pred[\"label\"] == \"LABEL_0\":\n",
    "        non.append(sentences[i])"
   ]
  },
  {
   "cell_type": "code",
   "execution_count": 36,
   "metadata": {},
   "outputs": [
    {
     "data": {
      "text/plain": [
       "[' Diplomatically and for domestic political reasons, it would have been impossible to go ahead with a planned visit to China in the coming days as what US officials have described as a Chinese surveillance balloon floated across the US.',\n",
       " 'The drama dashed an attempt by the Biden administration to take some of the heat out of tense US-China relations.',\n",
       " 'China took the rare step of expressing regret for the “unintended entry” of what it called a meteorological civilian airship into US airspace.',\n",
       " '“The Chinese side will continue communicating with the US side and properly handle this unexpected situation caused by force majeure,” the Foreign Ministry in Beijing said in a statement.',\n",
       " 'Had Blinken gone to Beijing, his visit would have been dominated by the balloon incident to the detriment of other key issues in the relationship, including Taiwan and economic clashes.',\n",
       " 'But politically, with Republicans up in arms over the incident, going ahead with the visit would have made President Joe Biden’s administration look like it wasn’t being sufficiently tough on China.',\n",
       " 'The Pentagon says it’s been tracking the balloon – the size of three buses, according to a defense official – for several days but made the decision not to shoot it down.',\n",
       " 'It reasoned that the balloon was wafting well above commercial and military air lanes – and that it was not a huge intelligence threat.']"
      ]
     },
     "execution_count": 36,
     "metadata": {},
     "output_type": "execute_result"
    }
   ],
   "source": [
    "claims"
   ]
  },
  {
   "cell_type": "code",
   "execution_count": 37,
   "metadata": {},
   "outputs": [
    {
     "data": {
      "text/plain": [
       "['And it is yet another incident that will fuel a sense in Washington and Beijing that the world’s strongest superpower and its rising rival are heading toward an inevitable confrontation.',\n",
       " 'Domestic politics in both Washington and Beijing play an important role in defining what is often described as the world’s most crucial diplomatic relationship.']"
      ]
     },
     "execution_count": 37,
     "metadata": {},
     "output_type": "execute_result"
    }
   ],
   "source": [
    "non"
   ]
  }
 ],
 "metadata": {
  "kernelspec": {
   "display_name": "Python 3",
   "language": "python",
   "name": "python3"
  },
  "language_info": {
   "codemirror_mode": {
    "name": "ipython",
    "version": 3
   },
   "file_extension": ".py",
   "mimetype": "text/x-python",
   "name": "python",
   "nbconvert_exporter": "python",
   "pygments_lexer": "ipython3",
   "version": "3.10.6"
  },
  "orig_nbformat": 4,
  "vscode": {
   "interpreter": {
    "hash": "916dbcbb3f70747c44a77c7bcd40155683ae19c65e1c03b4aa3499c5328201f1"
   }
  }
 },
 "nbformat": 4,
 "nbformat_minor": 2
}
