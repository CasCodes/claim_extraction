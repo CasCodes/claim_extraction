{
 "cells": [
  {
   "cell_type": "code",
   "execution_count": 8,
   "metadata": {},
   "outputs": [],
   "source": [
    "import spacy\n",
    "from math import sqrt\n",
    "import pytextrank"
   ]
  },
  {
   "cell_type": "code",
   "execution_count": 2,
   "metadata": {},
   "outputs": [],
   "source": [
    "# example text\n",
    "text = \"\"\"Compatibility of systems of linear constraints over the set of natural numbers.\n",
    "Criteria of compatibility of a system of linear Diophantine equations, strprintt inequations,\n",
    "and nonstrprintt inequations are considered. Upper bounds for components of a minimal set of\n",
    "solutions and algorithms of construction of minimal generating sets of solutions for all types\n",
    "of systems are given. These criteria and the corresponding algorithms for constructing a minimal\n",
    "supporting set of solutions can be used in solving all the considered types systems and systems of mixed types.\"\"\""
   ]
  },
  {
   "cell_type": "code",
   "execution_count": 4,
   "metadata": {},
   "outputs": [],
   "source": [
    "# load spaCy model.\n",
    "nlp = spacy.load(\"en_core_web_sm\")\n",
    "\n",
    "\n",
    "nlp.add_pipe(\"textrank\", last=True)\n",
    "doc = nlp(text)"
   ]
  },
  {
   "cell_type": "code",
   "execution_count": 5,
   "metadata": {},
   "outputs": [],
   "source": [
    "sent_bounds = [ [s.start, s.end, set([])] for s in doc.sents ]"
   ]
  },
  {
   "cell_type": "code",
   "execution_count": 6,
   "metadata": {},
   "outputs": [
    {
     "name": "stdout",
     "output_type": "stream",
     "text": [
      "0 mixed types 0.18224422086397363\n",
      "93 95\n",
      "65 93 95 96\n",
      "1 systems 0.177894013810666\n",
      "2 3\n",
      "0 2 3 14\n",
      "61 62\n",
      "35 61 62 65\n",
      "91 92\n",
      "65 91 92 96\n",
      "2 minimal generating sets 0.15012796482367466\n",
      "51 54\n",
      "35 51 54 65\n",
      "3 nonstrict inequations 0.14619431119413756\n",
      "30 32\n",
      "14 30 32 35\n"
     ]
    }
   ],
   "source": [
    "limit_phrases = 4\n",
    "\n",
    "phrase_id = 0\n",
    "unit_vector = []\n",
    "\n",
    "for p in doc._.phrases:\n",
    "    print(phrase_id, p.text, p.rank)\n",
    "\n",
    "    unit_vector.append(p.rank)\n",
    "\n",
    "    for chunk in p.chunks:\n",
    "        print(chunk.start, chunk.end)\n",
    "\n",
    "        for sent_start, sent_end, sent_vector in sent_bounds:\n",
    "            if chunk.start >= sent_start and chunk.end <= sent_end:\n",
    "                print(sent_start, chunk.start, chunk.end, sent_end)\n",
    "                sent_vector.add(phrase_id)\n",
    "                break\n",
    "\n",
    "    phrase_id += 1\n",
    "\n",
    "    if phrase_id == limit_phrases:\n",
    "        break"
   ]
  },
  {
   "cell_type": "code",
   "execution_count": 7,
   "metadata": {},
   "outputs": [
    {
     "data": {
      "text/plain": [
       "[0.2776164261148589,\n",
       " 0.27098966489700754,\n",
       " 0.2286930628398587,\n",
       " 0.22270084614827468]"
      ]
     },
     "execution_count": 7,
     "metadata": {},
     "output_type": "execute_result"
    }
   ],
   "source": [
    "sum_ranks = sum(unit_vector)\n",
    "\n",
    "unit_vector = [ rank/sum_ranks for rank in unit_vector ]\n",
    "unit_vector"
   ]
  },
  {
   "cell_type": "code",
   "execution_count": 9,
   "metadata": {},
   "outputs": [
    {
     "name": "stdout",
     "output_type": "stream",
     "text": [
      "{1}\n",
      "0 0.2776164261148589\n",
      "1 0.27098966489700754\n",
      "2 0.2286930628398587\n",
      "3 0.22270084614827468\n",
      "{3}\n",
      "0 0.2776164261148589\n",
      "1 0.27098966489700754\n",
      "2 0.2286930628398587\n",
      "3 0.22270084614827468\n",
      "{1, 2}\n",
      "0 0.2776164261148589\n",
      "1 0.27098966489700754\n",
      "2 0.2286930628398587\n",
      "3 0.22270084614827468\n",
      "{0, 1}\n",
      "0 0.2776164261148589\n",
      "1 0.27098966489700754\n",
      "2 0.2286930628398587\n",
      "3 0.22270084614827468\n"
     ]
    }
   ],
   "source": [
    "sent_rank = {}\n",
    "sent_id = 0\n",
    "\n",
    "for sent_start, sent_end, sent_vector in sent_bounds:\n",
    "    print(sent_vector)\n",
    "    sum_sq = 0.0\n",
    "    for phrase_id in range(len(unit_vector)):\n",
    "        print(phrase_id, unit_vector[phrase_id])\n",
    "\n",
    "        if phrase_id not in sent_vector:\n",
    "            sum_sq += unit_vector[phrase_id]**2.0\n",
    "\n",
    "    sent_rank[sent_id] = sqrt(sum_sq)\n",
    "    sent_id += 1\n"
   ]
  },
  {
   "cell_type": "code",
   "execution_count": 10,
   "metadata": {},
   "outputs": [
    {
     "data": {
      "text/plain": [
       "[(3, 0.31921181661434944),\n",
       " (2, 0.35590244017700196),\n",
       " (0, 0.42304499041475485),\n",
       " (1, 0.45034075489661707)]"
      ]
     },
     "execution_count": 10,
     "metadata": {},
     "output_type": "execute_result"
    }
   ],
   "source": [
    "from operator import itemgetter\n",
    "\n",
    "sorted(sent_rank.items(), key=itemgetter(1)) "
   ]
  },
  {
   "cell_type": "code",
   "execution_count": 11,
   "metadata": {},
   "outputs": [
    {
     "name": "stdout",
     "output_type": "stream",
     "text": [
      "3 These criteria and the corresponding algorithms for constructing a minimal\n",
      "supporting set of solutions can be used in solving all the considered types systems and systems of mixed types.\n",
      "2 Upper bounds for components of a minimal set of\n",
      "solutions and algorithms of construction of minimal generating sets of solutions for all types\n",
      "of systems are given.\n"
     ]
    }
   ],
   "source": [
    "limit_sentences = 2\n",
    "\n",
    "sent_text = {}\n",
    "sent_id = 0\n",
    "\n",
    "for sent in doc.sents:\n",
    "    sent_text[sent_id] = sent.text\n",
    "    sent_id += 1\n",
    "\n",
    "num_sent = 0\n",
    "\n",
    "for sent_id, rank in sorted(sent_rank.items(), key=itemgetter(1)):\n",
    "    print(sent_id, sent_text[sent_id])\n",
    "    num_sent += 1\n",
    "\n",
    "    if num_sent == limit_sentences:\n",
    "        break\n"
   ]
  }
 ],
 "metadata": {
  "kernelspec": {
   "display_name": "Python 3",
   "language": "python",
   "name": "python3"
  },
  "language_info": {
   "codemirror_mode": {
    "name": "ipython",
    "version": 3
   },
   "file_extension": ".py",
   "mimetype": "text/x-python",
   "name": "python",
   "nbconvert_exporter": "python",
   "pygments_lexer": "ipython3",
   "version": "3.10.6"
  },
  "orig_nbformat": 4,
  "vscode": {
   "interpreter": {
    "hash": "916dbcbb3f70747c44a77c7bcd40155683ae19c65e1c03b4aa3499c5328201f1"
   }
  }
 },
 "nbformat": 4,
 "nbformat_minor": 2
}
